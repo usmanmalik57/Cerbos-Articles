{
 "cells": [
  {
   "cell_type": "code",
   "execution_count": null,
   "id": "846407e2-17e1-42f6-bdb4-25e0b02ec4d6",
   "metadata": {},
   "outputs": [],
   "source": []
  },
  {
   "cell_type": "markdown",
   "id": "1752884f-9c6b-4b84-98ce-b187bc9d18c3",
   "metadata": {},
   "source": [
    "## What is RAG (Retrieval-Augmented Generation)?"
   ]
  },
  {
   "cell_type": "markdown",
   "id": "792b8a73-ebfb-4f3e-8fda-73b560658537",
   "metadata": {},
   "source": [
    "### Importing and Installing Required Libraries"
   ]
  },
  {
   "cell_type": "code",
   "execution_count": 6,
   "id": "bf8a979b-d73e-4bf7-8407-92b99c0bb348",
   "metadata": {},
   "outputs": [
    {
     "name": "stdout",
     "output_type": "stream",
     "text": [
      "Defaulting to user installation because normal site-packages is not writeable\n",
      "Requirement already satisfied: langchain in /home/mani/.local/lib/python3.10/site-packages (0.3.9)\n",
      "Requirement already satisfied: langchain-openai in /home/mani/.local/lib/python3.10/site-packages (0.2.10)\n",
      "Requirement already satisfied: pypdf in /home/mani/.local/lib/python3.10/site-packages (5.1.0)\n",
      "Requirement already satisfied: chromadb in /home/mani/.local/lib/python3.10/site-packages (0.5.20)\n",
      "Requirement already satisfied: langchain_community in /home/mani/.local/lib/python3.10/site-packages (0.3.8)\n",
      "Requirement already satisfied: pydantic<3.0.0,>=2.7.4 in /home/mani/.local/lib/python3.10/site-packages (from langchain) (2.8.2)\n",
      "Requirement already satisfied: async-timeout<5.0.0,>=4.0.0 in /home/mani/.local/lib/python3.10/site-packages (from langchain) (4.0.3)\n",
      "Requirement already satisfied: langchain-core<0.4.0,>=0.3.21 in /home/mani/.local/lib/python3.10/site-packages (from langchain) (0.3.21)\n",
      "Requirement already satisfied: requests<3,>=2 in /home/mani/.local/lib/python3.10/site-packages (from langchain) (2.31.0)\n",
      "Requirement already satisfied: langchain-text-splitters<0.4.0,>=0.3.0 in /home/mani/.local/lib/python3.10/site-packages (from langchain) (0.3.2)\n",
      "Requirement already satisfied: aiohttp<4.0.0,>=3.8.3 in /home/mani/.local/lib/python3.10/site-packages (from langchain) (3.9.5)\n",
      "Requirement already satisfied: langsmith<0.2.0,>=0.1.17 in /home/mani/.local/lib/python3.10/site-packages (from langchain) (0.1.142)\n",
      "Requirement already satisfied: tenacity!=8.4.0,<10,>=8.1.0 in /home/mani/.local/lib/python3.10/site-packages (from langchain) (8.5.0)\n",
      "Requirement already satisfied: numpy<2,>=1.22.4 in /home/mani/.local/lib/python3.10/site-packages (from langchain) (1.26.4)\n",
      "Requirement already satisfied: SQLAlchemy<3,>=1.4 in /home/mani/.local/lib/python3.10/site-packages (from langchain) (2.0.31)\n",
      "Requirement already satisfied: PyYAML>=5.3 in /home/mani/.local/lib/python3.10/site-packages (from langchain) (6.0.2)\n",
      "Requirement already satisfied: tiktoken<1,>=0.7 in /home/mani/.local/lib/python3.10/site-packages (from langchain-openai) (0.7.0)\n",
      "Requirement already satisfied: openai<2.0.0,>=1.54.0 in /home/mani/.local/lib/python3.10/site-packages (from langchain-openai) (1.54.3)\n",
      "Requirement already satisfied: typing_extensions>=4.0 in /home/mani/.local/lib/python3.10/site-packages (from pypdf) (4.12.2)\n",
      "Requirement already satisfied: uvicorn[standard]>=0.18.3 in /home/mani/.local/lib/python3.10/site-packages (from chromadb) (0.32.0)\n",
      "Requirement already satisfied: build>=1.0.3 in /home/mani/.local/lib/python3.10/site-packages (from chromadb) (1.2.2.post1)\n",
      "Requirement already satisfied: typer>=0.9.0 in /home/mani/.local/lib/python3.10/site-packages (from chromadb) (0.13.0)\n",
      "Requirement already satisfied: overrides>=7.3.1 in /home/mani/.local/lib/python3.10/site-packages (from chromadb) (7.7.0)\n",
      "Requirement already satisfied: importlib-resources in /home/mani/.local/lib/python3.10/site-packages (from chromadb) (6.4.5)\n",
      "Requirement already satisfied: kubernetes>=28.1.0 in /home/mani/.local/lib/python3.10/site-packages (from chromadb) (31.0.0)\n",
      "Requirement already satisfied: chroma-hnswlib==0.7.6 in /home/mani/.local/lib/python3.10/site-packages (from chromadb) (0.7.6)\n",
      "Requirement already satisfied: rich>=10.11.0 in /home/mani/.local/lib/python3.10/site-packages (from chromadb) (13.9.4)\n",
      "Requirement already satisfied: opentelemetry-sdk>=1.2.0 in /home/mani/.local/lib/python3.10/site-packages (from chromadb) (1.28.1)\n",
      "Requirement already satisfied: opentelemetry-api>=1.2.0 in /home/mani/.local/lib/python3.10/site-packages (from chromadb) (1.28.1)\n",
      "Requirement already satisfied: tqdm>=4.65.0 in /home/mani/.local/lib/python3.10/site-packages (from chromadb) (4.66.4)\n",
      "Requirement already satisfied: onnxruntime>=1.14.1 in /home/mani/.local/lib/python3.10/site-packages (from chromadb) (1.20.0)\n",
      "Requirement already satisfied: mmh3>=4.0.1 in /home/mani/.local/lib/python3.10/site-packages (from chromadb) (5.0.1)\n",
      "Requirement already satisfied: bcrypt>=4.0.1 in /home/mani/.local/lib/python3.10/site-packages (from chromadb) (4.2.0)\n",
      "Requirement already satisfied: httpx>=0.27.0 in /home/mani/.local/lib/python3.10/site-packages (from chromadb) (0.27.0)\n",
      "Requirement already satisfied: opentelemetry-exporter-otlp-proto-grpc>=1.2.0 in /home/mani/.local/lib/python3.10/site-packages (from chromadb) (1.28.1)\n",
      "Requirement already satisfied: opentelemetry-instrumentation-fastapi>=0.41b0 in /home/mani/.local/lib/python3.10/site-packages (from chromadb) (0.49b1)\n",
      "Requirement already satisfied: pypika>=0.48.9 in /home/mani/.local/lib/python3.10/site-packages (from chromadb) (0.48.9)\n",
      "Requirement already satisfied: posthog>=2.4.0 in /home/mani/.local/lib/python3.10/site-packages (from chromadb) (3.7.0)\n",
      "Requirement already satisfied: tokenizers>=0.13.2 in /home/mani/.local/lib/python3.10/site-packages (from chromadb) (0.20.0)\n",
      "Requirement already satisfied: orjson>=3.9.12 in /home/mani/.local/lib/python3.10/site-packages (from chromadb) (3.10.6)\n",
      "Requirement already satisfied: fastapi>=0.95.2 in /home/mani/.local/lib/python3.10/site-packages (from chromadb) (0.115.4)\n",
      "Requirement already satisfied: grpcio>=1.58.0 in /home/mani/.local/lib/python3.10/site-packages (from chromadb) (1.67.1)\n",
      "Requirement already satisfied: dataclasses-json<0.7,>=0.5.7 in /home/mani/.local/lib/python3.10/site-packages (from langchain_community) (0.6.7)\n",
      "Requirement already satisfied: pydantic-settings<3.0.0,>=2.4.0 in /home/mani/.local/lib/python3.10/site-packages (from langchain_community) (2.6.1)\n",
      "Requirement already satisfied: httpx-sse<0.5.0,>=0.4.0 in /home/mani/.local/lib/python3.10/site-packages (from langchain_community) (0.4.0)\n",
      "Requirement already satisfied: multidict<7.0,>=4.5 in /home/mani/.local/lib/python3.10/site-packages (from aiohttp<4.0.0,>=3.8.3->langchain) (6.0.5)\n",
      "Requirement already satisfied: aiosignal>=1.1.2 in /home/mani/.local/lib/python3.10/site-packages (from aiohttp<4.0.0,>=3.8.3->langchain) (1.3.1)\n",
      "Requirement already satisfied: frozenlist>=1.1.1 in /home/mani/.local/lib/python3.10/site-packages (from aiohttp<4.0.0,>=3.8.3->langchain) (1.4.1)\n",
      "Requirement already satisfied: attrs>=17.3.0 in /home/mani/.local/lib/python3.10/site-packages (from aiohttp<4.0.0,>=3.8.3->langchain) (23.2.0)\n",
      "Requirement already satisfied: yarl<2.0,>=1.0 in /home/mani/.local/lib/python3.10/site-packages (from aiohttp<4.0.0,>=3.8.3->langchain) (1.9.4)\n",
      "Requirement already satisfied: tomli>=1.1.0 in /home/mani/.local/lib/python3.10/site-packages (from build>=1.0.3->chromadb) (2.0.1)\n",
      "Requirement already satisfied: pyproject_hooks in /home/mani/.local/lib/python3.10/site-packages (from build>=1.0.3->chromadb) (1.2.0)\n",
      "Requirement already satisfied: packaging>=19.1 in /home/mani/.local/lib/python3.10/site-packages (from build>=1.0.3->chromadb) (24.0)\n",
      "Requirement already satisfied: typing-inspect<1,>=0.4.0 in /home/mani/.local/lib/python3.10/site-packages (from dataclasses-json<0.7,>=0.5.7->langchain_community) (0.9.0)\n",
      "Requirement already satisfied: marshmallow<4.0.0,>=3.18.0 in /home/mani/.local/lib/python3.10/site-packages (from dataclasses-json<0.7,>=0.5.7->langchain_community) (3.21.3)\n",
      "Requirement already satisfied: starlette<0.42.0,>=0.40.0 in /home/mani/.local/lib/python3.10/site-packages (from fastapi>=0.95.2->chromadb) (0.41.2)\n",
      "Requirement already satisfied: idna in /usr/lib/python3/dist-packages (from httpx>=0.27.0->chromadb) (3.3)\n",
      "Requirement already satisfied: sniffio in /home/mani/.local/lib/python3.10/site-packages (from httpx>=0.27.0->chromadb) (1.3.1)\n",
      "Requirement already satisfied: anyio in /home/mani/.local/lib/python3.10/site-packages (from httpx>=0.27.0->chromadb) (4.3.0)\n",
      "Requirement already satisfied: httpcore==1.* in /home/mani/.local/lib/python3.10/site-packages (from httpx>=0.27.0->chromadb) (1.0.4)\n",
      "Requirement already satisfied: certifi in /home/mani/.local/lib/python3.10/site-packages (from httpx>=0.27.0->chromadb) (2024.7.4)\n",
      "Requirement already satisfied: h11<0.15,>=0.13 in /home/mani/.local/lib/python3.10/site-packages (from httpcore==1.*->httpx>=0.27.0->chromadb) (0.14.0)\n",
      "Requirement already satisfied: google-auth>=1.0.1 in /home/mani/.local/lib/python3.10/site-packages (from kubernetes>=28.1.0->chromadb) (2.36.0)\n",
      "Requirement already satisfied: durationpy>=0.7 in /home/mani/.local/lib/python3.10/site-packages (from kubernetes>=28.1.0->chromadb) (0.9)\n",
      "Requirement already satisfied: six>=1.9.0 in /usr/lib/python3/dist-packages (from kubernetes>=28.1.0->chromadb) (1.16.0)\n",
      "Requirement already satisfied: requests-oauthlib in /home/mani/.local/lib/python3.10/site-packages (from kubernetes>=28.1.0->chromadb) (2.0.0)\n",
      "Requirement already satisfied: websocket-client!=0.40.0,!=0.41.*,!=0.42.*,>=0.32.0 in /home/mani/.local/lib/python3.10/site-packages (from kubernetes>=28.1.0->chromadb) (1.8.0)\n",
      "Requirement already satisfied: oauthlib>=3.2.2 in /home/mani/.local/lib/python3.10/site-packages (from kubernetes>=28.1.0->chromadb) (3.2.2)\n",
      "Requirement already satisfied: urllib3>=1.24.2 in /usr/lib/python3/dist-packages (from kubernetes>=28.1.0->chromadb) (1.26.5)\n",
      "Requirement already satisfied: python-dateutil>=2.5.3 in /home/mani/.local/lib/python3.10/site-packages (from kubernetes>=28.1.0->chromadb) (2.9.0.post0)\n",
      "Requirement already satisfied: jsonpatch<2.0,>=1.33 in /home/mani/.local/lib/python3.10/site-packages (from langchain-core<0.4.0,>=0.3.21->langchain) (1.33)\n",
      "Requirement already satisfied: requests-toolbelt<2.0.0,>=1.0.0 in /home/mani/.local/lib/python3.10/site-packages (from langsmith<0.2.0,>=0.1.17->langchain) (1.0.0)\n",
      "Requirement already satisfied: coloredlogs in /home/mani/.local/lib/python3.10/site-packages (from onnxruntime>=1.14.1->chromadb) (15.0.1)\n",
      "Requirement already satisfied: flatbuffers in /home/mani/.local/lib/python3.10/site-packages (from onnxruntime>=1.14.1->chromadb) (24.3.25)\n",
      "Requirement already satisfied: protobuf in /home/mani/.local/lib/python3.10/site-packages (from onnxruntime>=1.14.1->chromadb) (5.28.3)\n",
      "Requirement already satisfied: sympy in /home/mani/.local/lib/python3.10/site-packages (from onnxruntime>=1.14.1->chromadb) (1.13.3)\n",
      "Requirement already satisfied: distro<2,>=1.7.0 in /usr/lib/python3/dist-packages (from openai<2.0.0,>=1.54.0->langchain-openai) (1.7.0)\n",
      "Requirement already satisfied: jiter<1,>=0.4.0 in /home/mani/.local/lib/python3.10/site-packages (from openai<2.0.0,>=1.54.0->langchain-openai) (0.7.0)\n",
      "Requirement already satisfied: deprecated>=1.2.6 in /home/mani/.local/lib/python3.10/site-packages (from opentelemetry-api>=1.2.0->chromadb) (1.2.14)\n",
      "Requirement already satisfied: importlib-metadata<=8.5.0,>=6.0 in /home/mani/.local/lib/python3.10/site-packages (from opentelemetry-api>=1.2.0->chromadb) (8.5.0)\n",
      "Requirement already satisfied: googleapis-common-protos~=1.52 in /home/mani/.local/lib/python3.10/site-packages (from opentelemetry-exporter-otlp-proto-grpc>=1.2.0->chromadb) (1.65.0)\n",
      "Requirement already satisfied: opentelemetry-proto==1.28.1 in /home/mani/.local/lib/python3.10/site-packages (from opentelemetry-exporter-otlp-proto-grpc>=1.2.0->chromadb) (1.28.1)\n",
      "Requirement already satisfied: opentelemetry-exporter-otlp-proto-common==1.28.1 in /home/mani/.local/lib/python3.10/site-packages (from opentelemetry-exporter-otlp-proto-grpc>=1.2.0->chromadb) (1.28.1)\n",
      "Requirement already satisfied: opentelemetry-instrumentation-asgi==0.49b1 in /home/mani/.local/lib/python3.10/site-packages (from opentelemetry-instrumentation-fastapi>=0.41b0->chromadb) (0.49b1)\n",
      "Requirement already satisfied: opentelemetry-semantic-conventions==0.49b1 in /home/mani/.local/lib/python3.10/site-packages (from opentelemetry-instrumentation-fastapi>=0.41b0->chromadb) (0.49b1)\n",
      "Requirement already satisfied: opentelemetry-instrumentation==0.49b1 in /home/mani/.local/lib/python3.10/site-packages (from opentelemetry-instrumentation-fastapi>=0.41b0->chromadb) (0.49b1)\n",
      "Requirement already satisfied: opentelemetry-util-http==0.49b1 in /home/mani/.local/lib/python3.10/site-packages (from opentelemetry-instrumentation-fastapi>=0.41b0->chromadb) (0.49b1)\n",
      "Requirement already satisfied: wrapt<2.0.0,>=1.0.0 in /home/mani/.local/lib/python3.10/site-packages (from opentelemetry-instrumentation==0.49b1->opentelemetry-instrumentation-fastapi>=0.41b0->chromadb) (1.16.0)\n",
      "Requirement already satisfied: asgiref~=3.0 in /home/mani/.local/lib/python3.10/site-packages (from opentelemetry-instrumentation-asgi==0.49b1->opentelemetry-instrumentation-fastapi>=0.41b0->chromadb) (3.8.1)\n",
      "Requirement already satisfied: backoff>=1.10.0 in /home/mani/.local/lib/python3.10/site-packages (from posthog>=2.4.0->chromadb) (2.2.1)\n",
      "Requirement already satisfied: monotonic>=1.5 in /usr/lib/python3/dist-packages (from posthog>=2.4.0->chromadb) (1.6)\n",
      "Requirement already satisfied: pydantic-core==2.20.1 in /home/mani/.local/lib/python3.10/site-packages (from pydantic<3.0.0,>=2.7.4->langchain) (2.20.1)\n",
      "Requirement already satisfied: annotated-types>=0.4.0 in /home/mani/.local/lib/python3.10/site-packages (from pydantic<3.0.0,>=2.7.4->langchain) (0.7.0)\n",
      "Requirement already satisfied: python-dotenv>=0.21.0 in /home/mani/.local/lib/python3.10/site-packages (from pydantic-settings<3.0.0,>=2.4.0->langchain_community) (1.0.1)\n",
      "Requirement already satisfied: charset-normalizer<4,>=2 in /home/mani/.local/lib/python3.10/site-packages (from requests<3,>=2->langchain) (3.3.2)\n",
      "Requirement already satisfied: pygments<3.0.0,>=2.13.0 in /home/mani/.local/lib/python3.10/site-packages (from rich>=10.11.0->chromadb) (2.17.2)\n",
      "Requirement already satisfied: markdown-it-py>=2.2.0 in /home/mani/.local/lib/python3.10/site-packages (from rich>=10.11.0->chromadb) (3.0.0)\n",
      "Requirement already satisfied: greenlet!=0.4.17 in /home/mani/.local/lib/python3.10/site-packages (from SQLAlchemy<3,>=1.4->langchain) (3.0.3)\n",
      "Requirement already satisfied: regex>=2022.1.18 in /home/mani/.local/lib/python3.10/site-packages (from tiktoken<1,>=0.7->langchain-openai) (2024.5.15)\n",
      "Requirement already satisfied: huggingface-hub<1.0,>=0.16.4 in /home/mani/.local/lib/python3.10/site-packages (from tokenizers>=0.13.2->chromadb) (0.25.1)\n",
      "Requirement already satisfied: shellingham>=1.3.0 in /home/mani/.local/lib/python3.10/site-packages (from typer>=0.9.0->chromadb) (1.5.4)\n",
      "Requirement already satisfied: click>=8.0.0 in /usr/lib/python3/dist-packages (from typer>=0.9.0->chromadb) (8.0.3)\n",
      "Requirement already satisfied: uvloop!=0.15.0,!=0.15.1,>=0.14.0 in /home/mani/.local/lib/python3.10/site-packages (from uvicorn[standard]>=0.18.3->chromadb) (0.21.0)\n",
      "Requirement already satisfied: watchfiles>=0.13 in /home/mani/.local/lib/python3.10/site-packages (from uvicorn[standard]>=0.18.3->chromadb) (0.24.0)\n",
      "Requirement already satisfied: websockets>=10.4 in /home/mani/.local/lib/python3.10/site-packages (from uvicorn[standard]>=0.18.3->chromadb) (14.0)\n",
      "Requirement already satisfied: httptools>=0.5.0 in /home/mani/.local/lib/python3.10/site-packages (from uvicorn[standard]>=0.18.3->chromadb) (0.6.4)\n",
      "Requirement already satisfied: exceptiongroup>=1.0.2 in /home/mani/.local/lib/python3.10/site-packages (from anyio->httpx>=0.27.0->chromadb) (1.2.0)\n",
      "Requirement already satisfied: cachetools<6.0,>=2.0.0 in /home/mani/.local/lib/python3.10/site-packages (from google-auth>=1.0.1->kubernetes>=28.1.0->chromadb) (5.5.0)\n",
      "Requirement already satisfied: pyasn1-modules>=0.2.1 in /home/mani/.local/lib/python3.10/site-packages (from google-auth>=1.0.1->kubernetes>=28.1.0->chromadb) (0.4.1)\n",
      "Requirement already satisfied: rsa<5,>=3.1.4 in /home/mani/.local/lib/python3.10/site-packages (from google-auth>=1.0.1->kubernetes>=28.1.0->chromadb) (4.9)\n",
      "Requirement already satisfied: fsspec>=2023.5.0 in /home/mani/.local/lib/python3.10/site-packages (from huggingface-hub<1.0,>=0.16.4->tokenizers>=0.13.2->chromadb) (2024.9.0)\n",
      "Requirement already satisfied: filelock in /home/mani/.local/lib/python3.10/site-packages (from huggingface-hub<1.0,>=0.16.4->tokenizers>=0.13.2->chromadb) (3.16.1)\n",
      "Requirement already satisfied: zipp>=3.20 in /home/mani/.local/lib/python3.10/site-packages (from importlib-metadata<=8.5.0,>=6.0->opentelemetry-api>=1.2.0->chromadb) (3.21.0)\n",
      "Requirement already satisfied: jsonpointer>=1.9 in /home/mani/.local/lib/python3.10/site-packages (from jsonpatch<2.0,>=1.33->langchain-core<0.4.0,>=0.3.21->langchain) (2.4)\n",
      "Requirement already satisfied: mdurl~=0.1 in /home/mani/.local/lib/python3.10/site-packages (from markdown-it-py>=2.2.0->rich>=10.11.0->chromadb) (0.1.2)\n",
      "Requirement already satisfied: mypy-extensions>=0.3.0 in /home/mani/.local/lib/python3.10/site-packages (from typing-inspect<1,>=0.4.0->dataclasses-json<0.7,>=0.5.7->langchain_community) (1.0.0)\n",
      "Requirement already satisfied: humanfriendly>=9.1 in /home/mani/.local/lib/python3.10/site-packages (from coloredlogs->onnxruntime>=1.14.1->chromadb) (10.0)\n",
      "Requirement already satisfied: mpmath<1.4,>=1.1.0 in /home/mani/.local/lib/python3.10/site-packages (from sympy->onnxruntime>=1.14.1->chromadb) (1.3.0)\n",
      "Requirement already satisfied: pyasn1<0.7.0,>=0.4.6 in /home/mani/.local/lib/python3.10/site-packages (from pyasn1-modules>=0.2.1->google-auth>=1.0.1->kubernetes>=28.1.0->chromadb) (0.6.1)\n"
     ]
    }
   ],
   "source": [
    "!pip install -U langchain langchain-openai pypdf chromadb langchain_community\n"
   ]
  },
  {
   "cell_type": "code",
   "execution_count": 7,
   "id": "89cea9e6-b63d-4053-a42f-4380a9b0116d",
   "metadata": {},
   "outputs": [],
   "source": [
    "import os\n",
    "from dotenv import load_dotenv\n",
    "\n",
    "from langchain_openai import ChatOpenAI\n",
    "from langchain_openai import OpenAIEmbeddings\n",
    "\n",
    "from langchain_core.prompts import ChatPromptTemplate\n",
    "from langchain_core.output_parsers import StrOutputParser\n",
    "from langchain_community.document_loaders import PyPDFLoader\n",
    "\n",
    "from langchain_community.vectorstores import Chroma  \n",
    "from langchain.chains.combine_documents import create_stuff_documents_chain\n",
    "from langchain.chains import create_retrieval_chain\n",
    "from langchain_core.documents import Document\n",
    "from langchain_core.messages import HumanMessage, AIMessage\n",
    "\n",
    "load_dotenv()  \n",
    "\n",
    "\n",
    "### Creating an OpenAI Client Instance\n",
    "\n",
    "openai_key = os.environ.get('OPENAI_API_KEY')\n",
    "\n",
    "llm = ChatOpenAI(\n",
    "    openai_api_key = openai_key ,\n",
    "    model = 'gpt-4',\n",
    "    temperature = 0.7\n",
    ")\n"
   ]
  },
  {
   "cell_type": "markdown",
   "id": "a41ecc0e-2585-4d42-aeb1-be0678e0aad8",
   "metadata": {},
   "source": [
    "### Data Ingestion into Chroma DB"
   ]
  },
  {
   "cell_type": "code",
   "execution_count": 8,
   "id": "629cec76-1525-49b9-82ff-de956ac0e381",
   "metadata": {},
   "outputs": [],
   "source": [
    "data_url = \"https://www.hse.ie/eng/services/list/5/cancer/pubs/reports/national-survey-on-lung-cancer-awareness-report-january-2020.pdf\"\n",
    "loader = PyPDFLoader(data_url)\n",
    "lung_cancer_docs = loader.load_and_split()\n",
    "\n",
    "data_url = \"https://s21.q4cdn.com/399680738/files/doc_financials/2024/q3/META-Q3-2024-Earnings-Call-Transcript.pdf\"\n",
    "loader = PyPDFLoader(data_url)\n",
    "meta_docs = loader.load_and_split()\n",
    "\n",
    "data_url = \"https://s2.q4cdn.com/299287126/files/doc_financials/2024/q3/AMZN-Q3-2024-Earnings-Release.pdf\"\n",
    "loader = PyPDFLoader(data_url)\n",
    "amazon_docs = loader.load_and_split()\n",
    "\n",
    "def add_metadata(docs, source, month):\n",
    "    for doc in docs:\n",
    "        doc.metadata[\"source\"] = source\n",
    "        doc.metadata[\"month\"] = month\n",
    "    return docs\n",
    "\n",
    "lung_cancer_docs = add_metadata(lung_cancer_docs, \"lung_cancer_doc\", \"June\")\n",
    "meta_docs = add_metadata(meta_docs, \"meta_doc\", \"October\")\n",
    "amazon_docs = add_metadata(amazon_docs, \"amazon_doc\", \"November\")\n",
    "\n",
    "embeddings = OpenAIEmbeddings(openai_api_key = openai_key)\n",
    "\n",
    "lung_cancer_vectorstore= Chroma.from_documents(\n",
    "    documents=lung_cancer_docs,\n",
    "    embedding=embeddings,\n",
    "    collection_name=\"lung_cancer_collection\"\n",
    ")\n",
    "\n",
    "earning_calls_vectorstore = Chroma.from_documents(\n",
    "    documents= meta_docs + amazon_docs,\n",
    "    embedding=embeddings,\n",
    "    collection_name=\"earning_calls_collection\"\n",
    ")\n"
   ]
  },
  {
   "cell_type": "markdown",
   "id": "5fe3e43c-7a5c-4412-afed-96bcbfdc41d8",
   "metadata": {},
   "source": [
    "### Retrieval Augmented Generation with ChromaDB\n"
   ]
  },
  {
   "cell_type": "code",
   "execution_count": 9,
   "id": "e1f05e8b-4c87-4588-acfd-f8169db5f89a",
   "metadata": {},
   "outputs": [
    {
     "name": "stdout",
     "output_type": "stream",
     "text": [
      "The context does not provide information on the revenue generated by Meta in Q3 2024.\n"
     ]
    }
   ],
   "source": [
    "\n",
    "\n",
    "prompt = ChatPromptTemplate.from_template(\"\"\"Answer the following question based only on the provided context:\n",
    "\n",
    "Question: {input}\n",
    "\n",
    "Context: {context}\n",
    "\"\"\"\n",
    ")\n",
    "\n",
    "document_chain = create_stuff_documents_chain(llm, prompt)\n",
    "\n",
    "\n",
    "lung_cancer_retriever = lung_cancer_vectorstore.as_retriever()\n",
    "lung_cancer_retrieval_chain = create_retrieval_chain(lung_cancer_retriever, document_chain)\n",
    "\n",
    "query = \"What is the revenue generated by Meta in Q3 2024?\"\n",
    "response = lung_cancer_retrieval_chain.invoke({\"input\": query})\n",
    "print(response[\"answer\"])\n"
   ]
  },
  {
   "cell_type": "code",
   "execution_count": 10,
   "id": "c455a7b1-f09e-414c-908b-8186dbca3c24",
   "metadata": {},
   "outputs": [
    {
     "name": "stdout",
     "output_type": "stream",
     "text": [
      "The major causes of lung cancer are smoking, working environment, hereditary or genetic factors, air pollution, toxic chemicals, asbestos, second hand smoke, and alcohol. Other less common causes include poor diet, inhaling dust, lifestyle choices, previous cancer or other illnesses, obesity, unspecified pollution, vaping, lack of exercise, drug use, stress, and radon gas.\n"
     ]
    }
   ],
   "source": [
    "\n",
    "query = \"What are the major causes of Lung Cancer?\"\n",
    "response = lung_cancer_retrieval_chain.invoke({\"input\": query})\n",
    "print(response[\"answer\"])\n"
   ]
  },
  {
   "cell_type": "code",
   "execution_count": 11,
   "id": "ebf11ad0-2813-4d38-8fc2-e21f514ed496",
   "metadata": {},
   "outputs": [
    {
     "name": "stdout",
     "output_type": "stream",
     "text": [
      "The revenue generated by Meta in Q3 2024 was $40.6 billion.\n"
     ]
    }
   ],
   "source": [
    "earning_calls_retriever = earning_calls_vectorstore.as_retriever()\n",
    "earning_calls_retrieval_chain = create_retrieval_chain(earning_calls_retriever, document_chain)\n",
    "\n",
    "query = \"What is the revenue generated by Meta in Q3 2024?\"\n",
    "response = earning_calls_retrieval_chain.invoke({\"input\": query})\n",
    "print(response[\"answer\"])\n",
    "\n"
   ]
  },
  {
   "cell_type": "code",
   "execution_count": 12,
   "id": "47167965-cdf1-49e4-97b9-df832455fe69",
   "metadata": {},
   "outputs": [
    {
     "name": "stdout",
     "output_type": "stream",
     "text": [
      "The revenue generated by Amazon in the third quarter of 2024 was $158.9 billion.\n"
     ]
    }
   ],
   "source": [
    "query = \"What is the revenue generated by Amazon?\"\n",
    "response = earning_calls_retrieval_chain.invoke({\"input\": query})\n",
    "print(response[\"answer\"])\n"
   ]
  },
  {
   "cell_type": "code",
   "execution_count": 13,
   "id": "36c03cd4-97a7-4efb-9a53-e62151c8bfb6",
   "metadata": {},
   "outputs": [
    {
     "name": "stdout",
     "output_type": "stream",
     "text": [
      "The context does not provide information on the revenue generated by Amazon in Q3 2024.\n"
     ]
    }
   ],
   "source": [
    "earning_calls_retriever = earning_calls_vectorstore.as_retriever(search_kwargs={\"filter\": {\"source\": \"meta_doc\"}})\n",
    "earning_calls_retrieval_chain = create_retrieval_chain(earning_calls_retriever, document_chain)\n",
    "\n",
    "query = \"What is the revenue generated by Amazon in Q3 2024?\"\n",
    "response = earning_calls_retrieval_chain.invoke({\"input\": query})\n",
    "print(response[\"answer\"])"
   ]
  },
  {
   "cell_type": "code",
   "execution_count": 14,
   "id": "acce26bc-3d25-4f6e-a546-241bbd743c17",
   "metadata": {},
   "outputs": [
    {
     "name": "stdout",
     "output_type": "stream",
     "text": [
      "The revenue generated by Meta in Q3 2024 was $40.6 billion.\n"
     ]
    }
   ],
   "source": [
    "earning_calls_retriever = earning_calls_vectorstore.as_retriever(search_kwargs={\"filter\": {\"source\": \"meta_doc\"}})\n",
    "earning_calls_retrieval_chain = create_retrieval_chain(earning_calls_retriever, document_chain)\n",
    "\n",
    "query = \"What is the revenue generated by Meta in Q3 2024?\"\n",
    "response = earning_calls_retrieval_chain.invoke({\"input\": query})\n",
    "print(response[\"answer\"])"
   ]
  },
  {
   "cell_type": "markdown",
   "id": "581a7697-0e26-4742-acda-65ab28380ba3",
   "metadata": {},
   "source": [
    "## Implementing Authorization in RAG Application using Cerbos"
   ]
  },
  {
   "cell_type": "markdown",
   "id": "b2f4ad77-da07-490b-afbb-48c0c18c27a8",
   "metadata": {},
   "source": [
    "### Setting up the Environment"
   ]
  },
  {
   "cell_type": "code",
   "execution_count": 15,
   "id": "8896c573-fd6c-41a7-b682-4e1ba71fb735",
   "metadata": {},
   "outputs": [],
   "source": [
    "import os\n",
    "from dotenv import load_dotenv\n",
    "\n",
    "from langchain_openai import ChatOpenAI\n",
    "from langchain_openai import OpenAIEmbeddings\n",
    "\n",
    "from langchain_core.prompts import ChatPromptTemplate\n",
    "from langchain_core.output_parsers import StrOutputParser\n",
    "from langchain_community.document_loaders import PyPDFLoader\n",
    "\n",
    "from langchain_community.vectorstores import Chroma  \n",
    "from langchain.chains.combine_documents import create_stuff_documents_chain\n",
    "from langchain.chains import create_retrieval_chain\n",
    "from langchain_core.documents import Document\n",
    "from langchain_core.messages import HumanMessage, AIMessage\n"
   ]
  },
  {
   "cell_type": "code",
   "execution_count": 45,
   "id": "2734f81a-d9b7-42ab-a6cf-7f0458eb0fdd",
   "metadata": {},
   "outputs": [],
   "source": [
    "\n",
    "from cerbos.sdk.grpc.client import CerbosClient\n",
    "from cerbos.engine.v1 import engine_pb2\n",
    "from cerbos.response.v1 import response_pb2\n",
    "from google.protobuf.struct_pb2 import Value"
   ]
  },
  {
   "cell_type": "code",
   "execution_count": 17,
   "id": "88762354-dd8f-4845-a507-20097f9bad1f",
   "metadata": {},
   "outputs": [],
   "source": [
    "load_dotenv()\n",
    "\n",
    "# Cerbos Client Initialization\n",
    "cerbos_client = CerbosClient(\"localhost:3593\", tls_verify=False)\n",
    "\n",
    "# OpenAI Client Initialization\n",
    "openai_key = os.environ.get('OPENAI_API_KEY')\n",
    "llm = ChatOpenAI(\n",
    "    openai_api_key=openai_key,\n",
    "    model=\"gpt-4\",\n",
    "    temperature=0.7\n",
    ")\n",
    "\n",
    "# Initialize OpenAI embeddings\n",
    "embeddings = OpenAIEmbeddings(openai_api_key=openai_key)"
   ]
  },
  {
   "cell_type": "markdown",
   "id": "2d83f5b7-694b-4ce3-a0a7-8d2bf5785cf4",
   "metadata": {},
   "source": [
    "### Data Loading and Metadata Addition"
   ]
  },
  {
   "cell_type": "code",
   "execution_count": 18,
   "id": "82b8d9bf-29d6-4b40-876b-e6ca77ae2faa",
   "metadata": {},
   "outputs": [
    {
     "name": "stderr",
     "output_type": "stream",
     "text": [
      "/tmp/ipykernel_8187/368658657.py:25: LangChainDeprecationWarning: The class `Chroma` was deprecated in LangChain 0.2.9 and will be removed in 1.0. An updated version of the class exists in the :class:`~langchain-chroma package and should be used instead. To use it run `pip install -U :class:`~langchain-chroma` and import as `from :class:`~langchain_chroma import Chroma``.\n",
      "  lung_cancer_vectorstore = Chroma(\n"
     ]
    }
   ],
   "source": [
    "data_url = \"https://www.hse.ie/eng/services/list/5/cancer/pubs/reports/national-survey-on-lung-cancer-awareness-report-january-2020.pdf\"\n",
    "loader = PyPDFLoader(data_url)\n",
    "lung_cancer_docs = loader.load_and_split()\n",
    "\n",
    "data_url = \"https://s21.q4cdn.com/399680738/files/doc_financials/2024/q3/META-Q3-2024-Earnings-Call-Transcript.pdf\"\n",
    "loader = PyPDFLoader(data_url)\n",
    "meta_docs = loader.load_and_split()\n",
    "\n",
    "data_url = \"https://s2.q4cdn.com/299287126/files/doc_financials/2024/q3/AMZN-Q3-2024-Earnings-Release.pdf\"\n",
    "loader = PyPDFLoader(data_url)\n",
    "amazon_docs = loader.load_and_split()\n",
    "\n",
    "def add_metadata(docs, source, month):\n",
    "    for doc in docs:\n",
    "        doc.metadata[\"source\"] = source\n",
    "        doc.metadata[\"month\"] = month\n",
    "    return docs\n",
    "\n",
    "lung_cancer_docs = add_metadata(lung_cancer_docs, \"lung_cancer_doc\", \"June\")\n",
    "meta_docs = add_metadata(meta_docs, \"meta_doc\", \"October\")\n",
    "amazon_docs = add_metadata(amazon_docs, \"amazon_doc\", \"November\")\n",
    "\n",
    "\n",
    "# Create empty vector stores\n",
    "lung_cancer_vectorstore = Chroma(\n",
    "    collection_name=\"lung_cancer_collection\",\n",
    "    embedding_function=embeddings\n",
    ")\n",
    "\n",
    "earning_calls_vectorstore = Chroma(\n",
    "    collection_name=\"earning_calls_collection\",\n",
    "    embedding_function=embeddings\n",
    ")\n"
   ]
  },
  {
   "cell_type": "markdown",
   "id": "67089097-a3a1-4413-aea3-aa62238068ec",
   "metadata": {},
   "source": [
    "### RBAC Authorization on RAG with Cerbos"
   ]
  },
  {
   "cell_type": "markdown",
   "id": "ad3d7e42-a04c-4a3c-bf66-fdef723af548",
   "metadata": {},
   "source": [
    "apiVersion: \"api.cerbos.dev/v1\"\n",
    "resourcePolicy:\n",
    "  resource: \"vector_store\"\n",
    "  version: \"default\"\n",
    "  rules:\n",
    "    - actions: [\"ingest\"]\n",
    "      effect: EFFECT_ALLOW\n",
    "      roles: [\"data_ingestor\", \"admin\"]\n"
   ]
  },
  {
   "cell_type": "code",
   "execution_count": 19,
   "id": "19c89fe0-1204-48ad-ac8a-76222d3879b9",
   "metadata": {},
   "outputs": [],
   "source": [
    "def ingest_data_with_rbac(vector_store, docs, principal, resource):\n",
    "    \n",
    "    with CerbosClient(\"localhost:3592\", tls_verify=False) as client:\n",
    "        \n",
    "        if client.is_allowed(\"ingest\", principal, resource):\n",
    "            print(f\"Access granted for {principal.id} to ingest data in resource {resource.id}.\")\n",
    "            vector_store.add_documents(docs)\n",
    "            return True\n",
    "            \n",
    "        else:\n",
    "            print(f\"Access denied for {principal.id}.\")\n",
    "            return False"
   ]
  },
  {
   "cell_type": "code",
   "execution_count": 20,
   "id": "960a8749-8513-4c88-ad98-656b438614f9",
   "metadata": {},
   "outputs": [],
   "source": [
    "# Define Principals with different roles \n",
    "principal_user1 = engine_pb2.Principal(\n",
    "    id=\"user1\",\n",
    "    roles=[\"data_retriever\"],  \n",
    "    policy_version=\"default\",\n",
    ")\n",
    "\n",
    "\n",
    "principal_user2 = engine_pb2.Principal(\n",
    "    id=\"user2\",\n",
    "    roles=[\"data_ingestor\"], \n",
    "    policy_version=\"default\",\n",
    ")\n",
    "\n",
    "\n",
    "principal_user3 = engine_pb2.Principal(\n",
    "    id=\"admin\",\n",
    "    roles=[\"admin\"], \n",
    "    policy_version=\"default\",\n",
    ")\n"
   ]
  },
  {
   "cell_type": "code",
   "execution_count": 21,
   "id": "c4b9ed28-7b11-41f4-86bc-69e8cd92a349",
   "metadata": {},
   "outputs": [],
   "source": [
    "resource_rbac = engine_pb2.Resource(\n",
    "    id=\"lung_cancer_vectorstore\",\n",
    "    kind=\"vector_store\",\n",
    ")"
   ]
  },
  {
   "cell_type": "code",
   "execution_count": 23,
   "id": "7bd6f94d-da5a-431e-9b85-92d37ba54066",
   "metadata": {},
   "outputs": [
    {
     "name": "stdout",
     "output_type": "stream",
     "text": [
      "=====================\n",
      "Access denied for user1.\n",
      "You do not have permission to ingest the data\n",
      "=====================\n",
      "Access granted for user2 to ingest data in resource lung_cancer_vectorstore.\n",
      "Operation successfull - data ingested\n",
      "=====================\n",
      "Access granted for admin to ingest data in resource lung_cancer_vectorstore.\n",
      "Operation successfull - data ingested\n"
     ]
    }
   ],
   "source": [
    "for principal in [principal_user1, principal_user2, principal_user3]:\n",
    "    print(\"=====================\")\n",
    "    result = ingest_data_with_rbac(lung_cancer_vectorstore,\n",
    "                                   lung_cancer_docs,\n",
    "                                   principal, \n",
    "                                   resource_rbac)\n",
    "    \n",
    "    if result:\n",
    "        print(\"Operation successfull - data ingested\")\n",
    "    else:\n",
    "        print(\"You do not have permission to ingest the data\")"
   ]
  },
  {
   "cell_type": "markdown",
   "id": "2cdb3ac7-b967-4cbf-b2d3-55cb0a2646b9",
   "metadata": {},
   "source": [
    "### ABAC Authorization on RAG with Cerbos"
   ]
  },
  {
   "cell_type": "markdown",
   "id": "e36803f9-e474-49e5-af39-0821d5cd60a1",
   "metadata": {},
   "source": [
    "apiVersion: \"api.cerbos.dev/v1\"\n",
    "resourcePolicy:\n",
    "  resource: \"vector_store\"\n",
    "  version: \"default\"\n",
    "  rules:\n",
    "\n",
    "    - actions: [\"ingest\"]\n",
    "      effect: EFFECT_ALLOW\n",
    "      roles: [\"data_ingestor\", \"admin\"]\n",
    "\n",
    "\n",
    "    - actions: [\"ingest, retrieve\"]\n",
    "      effect: EFFECT_ALLOW\n",
    "      roles: [\"finance\", \"health\"]\n",
    "      condition:\n",
    "        match:\n",
    "          expr: request.principal.attr.department == request.resource.attr.type\n"
   ]
  },
  {
   "cell_type": "markdown",
   "id": "33fd22e9-a6ea-4323-97f1-2908f458b9cb",
   "metadata": {},
   "source": [
    "#### Data Ingestion with ABAC"
   ]
  },
  {
   "cell_type": "code",
   "execution_count": 24,
   "id": "f141fe4c-c7a9-4f05-9920-595ae3c72d81",
   "metadata": {},
   "outputs": [],
   "source": [
    "def ingest_data_with_abac(vector_store, docs, principal, resource):\n",
    "\n",
    "    with CerbosClient(\"localhost:3592\", tls_verify=False) as client:\n",
    "        \n",
    "        if client.is_allowed(\"department_ingest\", principal, resource):\n",
    "            print(f\"Access granted for {principal.id} to ingest data in resource {resource.id}.\")\n",
    "            vector_store.add_documents(docs)\n",
    "            return True\n",
    "            \n",
    "        else:\n",
    "            print(f\"Access denied for {principal.id}.\")\n",
    "            return False"
   ]
  },
  {
   "cell_type": "code",
   "execution_count": 25,
   "id": "3eb5a9e3-e329-4eb6-9f12-47d8a165d02b",
   "metadata": {},
   "outputs": [],
   "source": [
    "principal_user4 = engine_pb2.Principal(\n",
    "    id=\"user4\",\n",
    "    roles=[\"department_data_ingestor\"],\n",
    "    policy_version=\"default\",\n",
    "    attr={\"department\": Value(string_value=\"finance\")}\n",
    ")\n",
    "\n",
    "principal_user5 = engine_pb2.Principal(\n",
    "    id=\"user5\",\n",
    "    roles=[\"department_data_ingestor\"],\n",
    "    policy_version=\"default\",\n",
    "    attr={\"department\": Value(string_value=\"health\")}\n",
    ")\n",
    "\n",
    "resource_abac_finance = engine_pb2.Resource(\n",
    "    id=\"finance_vectorstore\",\n",
    "    kind=\"vector_store\",\n",
    "    attr={\"type\": Value(string_value=\"finance\")}\n",
    ")\n",
    "\n",
    "resource_abac_health = engine_pb2.Resource(\n",
    "    id=\"health\",\n",
    "    kind=\"vector_store\",\n",
    "    attr={\"type\": Value(string_value=\"health\")}\n",
    ")\n"
   ]
  },
  {
   "cell_type": "code",
   "execution_count": 26,
   "id": "b524652f-0228-4d1d-99aa-1eac3a5aa68f",
   "metadata": {},
   "outputs": [
    {
     "name": "stdout",
     "output_type": "stream",
     "text": [
      "=====================\n",
      "Access denied for user4.\n",
      "You do not have permission to ingest the data\n",
      "=====================\n",
      "Access granted for user5 to ingest data in resource health.\n",
      "Operation successfull - data ingested\n"
     ]
    }
   ],
   "source": [
    "for principal in [principal_user4, principal_user5]:\n",
    "    print(\"=====================\")\n",
    "    result = ingest_data_with_abac(lung_cancer_vectorstore,\n",
    "                                   lung_cancer_docs,\n",
    "                                   principal, \n",
    "                                   resource_abac_health)\n",
    "    \n",
    "    if result:\n",
    "        print(\"Operation successfull - data ingested\")\n",
    "    else:\n",
    "        print(\"You do not have permission to ingest the data\")"
   ]
  },
  {
   "cell_type": "code",
   "execution_count": 27,
   "id": "4bbd96fd-44bf-43cc-a12a-ed8f671cd873",
   "metadata": {},
   "outputs": [
    {
     "name": "stdout",
     "output_type": "stream",
     "text": [
      "Access granted for user4 to ingest data in resource finance_vectorstore.\n",
      "Operation successfull - data ingested\n",
      "Access denied for user5.\n",
      "You do not have permission to ingest the data\n"
     ]
    }
   ],
   "source": [
    "docs = meta_docs + amazon_docs\n",
    "for principal in [principal_user4, principal_user5]:\n",
    "    \n",
    "    result = ingest_data_with_abac(earning_calls_vectorstore,\n",
    "                                   docs,\n",
    "                                   principal, \n",
    "                                   resource_abac_finance)\n",
    "    \n",
    "    if result:\n",
    "        print(\"Operation successfull - data ingested\")\n",
    "    else:\n",
    "        print(\"You do not have permission to ingest the data\")"
   ]
  },
  {
   "cell_type": "markdown",
   "id": "5ac6ede1-5f16-47da-8f9a-737778ec3905",
   "metadata": {},
   "source": [
    "#### Data Retrieval with ABAC"
   ]
  },
  {
   "cell_type": "code",
   "execution_count": 28,
   "id": "50ee0ca0-6636-4024-a874-d87585a3e608",
   "metadata": {},
   "outputs": [],
   "source": [
    "def generate_response(vector_store, query, doc_type) :\n",
    "\n",
    "    prompt = ChatPromptTemplate.from_template(\"\"\"Answer the following question based only on the provided context:\n",
    "    \n",
    "    Question: {input}\n",
    "    \n",
    "    Context: {context}\n",
    "    \"\"\"\n",
    "    )\n",
    "    \n",
    "    document_chain = create_stuff_documents_chain(llm, prompt)\n",
    "    \n",
    "    \n",
    "    retriever = vector_store.as_retriever(search_kwargs={\"filter\": {\"source\": doc_type}})\n",
    "    retrieval_chain = create_retrieval_chain(retriever, document_chain)\n",
    "    \n",
    "    response = retrieval_chain.invoke({\"input\": query})\n",
    "    return response['answer']"
   ]
  },
  {
   "cell_type": "code",
   "execution_count": 29,
   "id": "dd9e32d5-8d3f-45d6-a560-eb66bdced1a7",
   "metadata": {},
   "outputs": [
    {
     "data": {
      "text/plain": [
       "'The revenue of Meta for Q3 2024 was $40.6 billion.'"
      ]
     },
     "execution_count": 29,
     "metadata": {},
     "output_type": "execute_result"
    }
   ],
   "source": [
    "generate_response(earning_calls_vectorstore, \n",
    "                  \"What is the revenue of Meta for Q3 2024?\", \n",
    "                  \"meta_doc\")"
   ]
  },
  {
   "cell_type": "code",
   "execution_count": 60,
   "id": "527aa983-6596-45c2-9abd-329e5b4d7b0b",
   "metadata": {},
   "outputs": [],
   "source": [
    "def retrieve_data_with_abac(vector_store, query, principal, resource, resource_plan):\n",
    "    \n",
    "    with CerbosClient(\"localhost:3592\", tls_verify=False) as client:\n",
    "        \n",
    "        if client.is_allowed(\"retrieve\", principal, resource):\n",
    "            print(f\"Access granted for {principal.id} to access the resource {resource.id}.\")\n",
    "\n",
    "            plan = client.plan_resources(action=\"retrieve\", \n",
    "                                 principal=principal, \n",
    "                                 resource=plan_resource)\n",
    "\n",
    "            doc_type = plan.filter.condition.expression.operands[0].value.string_value\n",
    "            \n",
    "            response = generate_response(vector_store, \n",
    "                                         query, \n",
    "                                         doc_type)\n",
    "            return response\n",
    "            \n",
    "        else:\n",
    "            return (f\"Access denied for {principal.id} to access the resource {resource.id}.\")\n"
   ]
  },
  {
   "cell_type": "code",
   "execution_count": 61,
   "id": "70a9da41-0b93-4e89-8ff7-664d39902623",
   "metadata": {},
   "outputs": [],
   "source": [
    "principal_user6 = engine_pb2.Principal(\n",
    "    id=\"user6\",\n",
    "    roles=[\"doc_retriever\"],\n",
    "    policy_version=\"default\",\n",
    "    attr={\"doc_type\": Value(string_value=\"meta_doc\")}\n",
    ")\n",
    "\n",
    "principal_user7 = engine_pb2.Principal(\n",
    "    id=\"user7\",\n",
    "    roles=[\"doc_retriever\"],\n",
    "    policy_version=\"default\",\n",
    "    attr={\"doc_type\": Value(string_value=\"amazon_doc\")}\n",
    ")\n",
    "\n",
    "resource_abac_meta = engine_pb2.Resource(\n",
    "    id=\"meta_docs_vectorstore\",\n",
    "    kind=\"vector_store\",\n",
    "    attr={\"doc_type\": Value(string_value=\"meta_doc\")}\n",
    ")\n",
    "\n",
    "resource_abac_amazon = engine_pb2.Resource(\n",
    "    id=\"amazon_docs_vectorstore\",\n",
    "    kind=\"vector_store\",\n",
    "    attr={\"doc_type\": Value(string_value=\"amazon_doc\")}\n",
    ")"
   ]
  },
  {
   "cell_type": "code",
   "execution_count": 69,
   "id": "a7675a75-6180-4a37-97fc-57822c907c1d",
   "metadata": {},
   "outputs": [
    {
     "name": "stdout",
     "output_type": "stream",
     "text": [
      "request_id: \"288b4689-215d-4baf-8b47-062d901be23a\"\n",
      "action: \"retrieve\"\n",
      "resource_kind: \"vector_store\"\n",
      "filter {\n",
      "  kind: KIND_CONDITIONAL\n",
      "  condition {\n",
      "    expression {\n",
      "      operator: \"eq\"\n",
      "      operands {\n",
      "        value {\n",
      "          string_value: \"amazon_doc\"\n",
      "        }\n",
      "      }\n",
      "      operands {\n",
      "        variable: \"request.resource.attr.doc_type\"\n",
      "      }\n",
      "    }\n",
      "  }\n",
      "}\n",
      "cerbos_call_id: \"01JE10QSD53NF54Y18CCTKC92J\"\n",
      "\n"
     ]
    }
   ],
   "source": [
    "plan_resource = engine_pb2.PlanResourcesInput.Resource(\n",
    "    kind=\"vector_store\",\n",
    ")\n",
    "\n",
    "with CerbosClient(\"localhost:3592\", tls_verify=False) as client:\n",
    "    plan = plan = client.plan_resources(action=\"retrieve\", \n",
    "                             principal=principal_user7, \n",
    "                             resource=plan_resource)\n",
    "\n",
    "    print(plan)"
   ]
  },
  {
   "cell_type": "code",
   "execution_count": 64,
   "id": "6050744b-f47e-4c28-8ac9-72f3c89ab07e",
   "metadata": {},
   "outputs": [
    {
     "name": "stdout",
     "output_type": "stream",
     "text": [
      "=====================\n",
      "Access granted for user6 to access the resource meta_docs_vectorstore.\n",
      "The revenue of Meta for Q3 2024 was $40.6 billion.\n",
      "=====================\n",
      "Access denied for user7 to access the resource meta_docs_vectorstore.\n"
     ]
    }
   ],
   "source": [
    "for principal in [principal_user6, principal_user7]:\n",
    "    print(\"=====================\")\n",
    "    query = \"What is the revenue of Meta for Q3 2024?\"\n",
    "    doc_type = \"meta_doc\"\n",
    "    \n",
    "    result = retrieve_data_with_abac(earning_calls_vectorstore,\n",
    "                                   query,\n",
    "                                   principal, \n",
    "                                   resource_abac_meta,\n",
    "                                   plan_resource\n",
    "                                    )\n",
    "    \n",
    "    print(result)"
   ]
  },
  {
   "cell_type": "code",
   "execution_count": 71,
   "id": "8dc703ea-2193-4012-aff3-fba01a49bc58",
   "metadata": {},
   "outputs": [
    {
     "name": "stdout",
     "output_type": "stream",
     "text": [
      "=====================\n",
      "Access denied for user6 to access the resource amazon_docs_vectorstore.\n",
      "=====================\n",
      "Access granted for user7 to access the resource amazon_docs_vectorstore.\n",
      "The revenue of Amazon for Q3 2024 is $158.9 billion.\n"
     ]
    }
   ],
   "source": [
    "for principal in [principal_user6, principal_user7]:\n",
    "    print(\"=====================\")\n",
    "    query = \"What is the revenue of Amazon for Q3 2024?\"\n",
    "    doc_type = \"amazon_doc\"\n",
    "    \n",
    "    result = retrieve_data_with_abac(earning_calls_vectorstore,\n",
    "                                   query,\n",
    "                                   principal, \n",
    "                                   resource_abac_amazon,\n",
    "                                   plan_resource)\n",
    "    \n",
    "    print(result)"
   ]
  },
  {
   "cell_type": "markdown",
   "id": "37661e6f-b618-4afa-9a13-c2913cd09054",
   "metadata": {},
   "source": [
    "### ReBAC Approach on RAG with Cerbos"
   ]
  },
  {
   "cell_type": "code",
   "execution_count": 84,
   "id": "273c1829-d894-4d77-b35c-225c4ed6881c",
   "metadata": {},
   "outputs": [],
   "source": [
    "def retrieve_data_with_abac(vector_store, query, principal, resource, resource_plan):\n",
    "    \n",
    "    with CerbosClient(\"localhost:3592\", tls_verify=False) as client:\n",
    "        \n",
    "        if client.is_allowed(\"retrieve\", principal, resource):\n",
    "            print(f\"Access granted for {principal.id} to access the resource {resource.id}.\")\n",
    "\n",
    "            plan = client.plan_resources(action=\"retrieve\", \n",
    "                     principal=principal, \n",
    "                     resource=plan_resource)\n",
    "\n",
    "            doc_type = plan.filter.condition.expression.operands[0].value.string_value\n",
    "            \n",
    "            response = generate_response(vector_store, \n",
    "                                         query, \n",
    "                                         doc_type)\n",
    "            return response\n",
    "            \n",
    "        else:\n",
    "            return (f\"Access denied for {principal.id} to access the resource {resource.id}.\")"
   ]
  },
  {
   "cell_type": "code",
   "execution_count": 85,
   "id": "d81127aa-7c38-4381-ab9a-4d6bcb8bae69",
   "metadata": {},
   "outputs": [],
   "source": [
    "principal_user8 = engine_pb2.Principal(\n",
    "    id=\"user8\",\n",
    "    roles=[\"team_leader\"],\n",
    "    policy_version=\"default\",\n",
    "    attr={\"team_name\": Value(string_value=\"finance\"),\n",
    "         \"doc_type\": Value(string_value=\"meta_doc\")}\n",
    ")\n",
    "\n",
    "principal_user9 = engine_pb2.Principal(\n",
    "    id=\"user9\",\n",
    "    roles=[\"team_leader\"],\n",
    "    policy_version=\"default\",\n",
    "    attr={\"team_name\": Value(string_value=\"health\"),\n",
    "         \"doc_type\": Value(string_value=\"lung_cancer_doc\")}\n",
    ")\n",
    "\n",
    "resource_rebac_finance_meta = engine_pb2.Resource(\n",
    "    id=\"finance_vectorstore_meta\",\n",
    "    kind=\"vector_store\",\n",
    "    attr={\"team_name\": Value(string_value=\"finance\"),\n",
    "         \"doc_type\": Value(string_value=\"meta_doc\")}\n",
    ")\n",
    "\n",
    "resource_rebac_finance_amazon = engine_pb2.Resource(\n",
    "    id=\"finance_vectorstore_amazon\",\n",
    "    kind=\"vector_store\",\n",
    "    attr={\"team_name\": Value(string_value=\"finance\"),\n",
    "         \"doc_type\": Value(string_value=\"amazon_doc\")}\n",
    ")\n",
    "\n",
    "resource_rebac_health = engine_pb2.Resource(\n",
    "    id=\"health_vectorstore\",\n",
    "    kind=\"vector_store\",\n",
    "    attr={\"team_name\": Value(string_value=\"health\"),\n",
    "         \"doc_type\": Value(string_value=\"lung_cancer_doc\")}\n",
    ")"
   ]
  },
  {
   "cell_type": "code",
   "execution_count": 86,
   "id": "a26b5fcb-bd1f-4ab0-9aa2-b221ae4662a0",
   "metadata": {},
   "outputs": [
    {
     "name": "stdout",
     "output_type": "stream",
     "text": [
      "=====================\n",
      "Access granted for user8 to access the resource finance_vectorstore_meta.\n",
      "The context does not provide information on Meta's revenue for Q3 2024.\n",
      "=====================\n",
      "Access denied for user8 to access the resource finance_vectorstore_amazon.\n",
      "=====================\n",
      "Access denied for user9 to access the resource finance_vectorstore_meta.\n",
      "=====================\n",
      "Access denied for user9 to access the resource finance_vectorstore_amazon.\n"
     ]
    }
   ],
   "source": [
    "for principal in [principal_user8, principal_user9]:\n",
    "    for resource in [resource_rebac_finance_meta, resource_rebac_finance_amazon]:\n",
    "        print(\"=====================\")\n",
    "        query = \"What is the revenue of Meta for Q3 2024?\"\n",
    "        doc_type = \"meta_doc\"\n",
    "        \n",
    "        result = retrieve_data_with_abac(earning_calls_vectorstore,\n",
    "                                       query,\n",
    "                                       principal, \n",
    "                                       resource,\n",
    "                                       plan_resource)\n",
    "        \n",
    "        print(result)"
   ]
  },
  {
   "cell_type": "code",
   "execution_count": null,
   "id": "2113d047-e6af-4d99-9086-58496ce9e9e3",
   "metadata": {},
   "outputs": [],
   "source": []
  }
 ],
 "metadata": {
  "kernelspec": {
   "display_name": "Python 3 (ipykernel)",
   "language": "python",
   "name": "python3"
  },
  "language_info": {
   "codemirror_mode": {
    "name": "ipython",
    "version": 3
   },
   "file_extension": ".py",
   "mimetype": "text/x-python",
   "name": "python",
   "nbconvert_exporter": "python",
   "pygments_lexer": "ipython3",
   "version": "3.10.12"
  }
 },
 "nbformat": 4,
 "nbformat_minor": 5
}
